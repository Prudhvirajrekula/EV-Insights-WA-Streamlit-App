{
 "cells": [
  {
   "cell_type": "markdown",
   "id": "3adefd79",
   "metadata": {},
   "source": [
    "# 🚗 EV Insights: Trends & Predictions in Washington's Clean Vehicle Movement\n",
    "This project explores electric vehicle (EV) adoption across Washington State using public data. The aim is to uncover trends, compare vehicle types, and train a classifier to predict EV categories."
   ]
  },
  {
   "cell_type": "markdown",
   "id": "4c739b3f",
   "metadata": {},
   "source": [
    "## 🔍 Key Findings\n",
    "- **Battery Electric Vehicles (BEVs)** have a longer electric range but tend to have a higher MSRP.\n",
    "- **Vehicle registrations** are heavily concentrated in urban counties like King and Snohomish.\n",
    "- **Electric range** has improved significantly in model years post-2017.\n",
    "- **Certain utility companies** serve more EVs, indicating potential infrastructure demand.\n",
    "- **Random Forest Classifier** achieved solid accuracy in predicting EV type based on make, model, and MSRP."
   ]
  },
  {
   "cell_type": "markdown",
   "id": "1af9acab",
   "metadata": {},
   "source": [
    "## 🎯 Project Goal\n",
    "Help the **Washington State Department of Transportation** and stakeholders understand EV adoption trends, price/range tradeoffs, and target areas for charging infrastructure based on real-world vehicle data."
   ]
  },
  {
   "cell_type": "code",
   "execution_count": null,
   "id": "254e654f",
   "metadata": {},
   "outputs": [],
   "source": [
    "!pip install keplergl"
   ]
  },
  {
   "cell_type": "code",
   "execution_count": null,
   "id": "08741719",
   "metadata": {},
   "outputs": [],
   "source": [
    "import pandas as pd\n",
    "import numpy as np\n",
    "import matplotlib.pyplot as plt\n",
    "import seaborn as sns\n",
    "import statsmodels.api as sm\n",
    "import patsy\n",
    "from sklearn.linear_model import LinearRegression\n",
    "from sklearn.model_selection import train_test_split\n",
    "from sklearn.preprocessing import OneHotEncoder\n",
    "from sklearn.compose import ColumnTransformer\n",
    "from sklearn.metrics import r2_score\n",
    "from sklearn.ensemble import RandomForestClassifier\n",
    "from sklearn.model_selection import train_test_split\n",
    "from sklearn.metrics import accuracy_score, classification_report\n",
    "from sklearn.impute import SimpleImputer\n",
    "import warnings\n",
    "from keplergl import KeplerGl\n",
    "from google.colab import output\n",
    "output.enable_custom_widget_manager()"
   ]
  },
  {
   "cell_type": "code",
   "execution_count": null,
   "id": "e278c036",
   "metadata": {},
   "outputs": [],
   "source": [
    "\n",
    "from sklearn.linear_model import LinearRegression\n",
    "from sklearn.model_selection import train_test_split\n",
    "from sklearn.metrics import r2_score\n",
    "import numpy as np\n",
    "\n",
    "# Predicting Base MSRP using only numerical features (Model Year, Electric Range)\n",
    "try:\n",
    "    df_reg = data_analysis.df[['Model Year', 'Electric Range', 'Base MSRP']].dropna()\n",
    "\n",
    "    # Remove outliers in MSRP (e.g., top 1%)\n",
    "    q_high = df_reg['Base MSRP'].quantile(0.99)\n",
    "    df_reg = df_reg[df_reg['Base MSRP'] <= q_high]\n",
    "\n",
    "    X = df_reg[['Model Year', 'Electric Range']]\n",
    "    y = df_reg['Base MSRP']\n",
    "\n",
    "    X_train, X_test, y_train, y_test = train_test_split(X, y, test_size=0.2, random_state=42)\n",
    "\n",
    "    lr = LinearRegression()\n",
    "    lr.fit(X_train, y_train)\n",
    "    y_pred = lr.predict(X_test)\n",
    "\n",
    "    print(\"✅ Fixed Linear Regression Completed\")\n",
    "    print(\"R-squared score:\", r2_score(y_test, y_pred))\n",
    "\n",
    "except Exception as e:\n",
    "    print(\"Error during linear regression:\", e)\n"
   ]
  },
  {
   "cell_type": "code",
   "execution_count": null,
   "id": "1979814d",
   "metadata": {},
   "outputs": [],
   "source": [
    "data_analysis = DataAnalysis(\"/content/Electric_Vehicle_Population_Data.csv\")\n",
    "data = data_analysis.load_data(\"/content/Electric_Vehicle_Population_Data.csv\")"
   ]
  },
  {
   "cell_type": "code",
   "execution_count": null,
   "id": "c3b755c3",
   "metadata": {},
   "outputs": [],
   "source": [
    "# Filter data\n",
    "filtered_data = data_analysis.filter_data(column='Model Year', value=2020)\n",
    "filtered_data"
   ]
  },
  {
   "cell_type": "code",
   "execution_count": null,
   "id": "98f70cd8",
   "metadata": {},
   "outputs": [],
   "source": [
    "# Filter data\n",
    "filtered_data = data_analysis.filter_data(column='Model Year', value=2020)\n",
    "filtered_data"
   ]
  },
  {
   "cell_type": "code",
   "execution_count": null,
   "id": "6b4ea9d5",
   "metadata": {},
   "outputs": [],
   "source": [
    "# Print vehicle info\n",
    "data_analysis.print_vehicle_info('VIN123', 'Tesla', 'Model S', verbose=True, show_range=True, electric_range=350)"
   ]
  },
  {
   "cell_type": "code",
   "execution_count": null,
   "id": "5fbbe619",
   "metadata": {},
   "outputs": [],
   "source": [
    "# Plot histogram for make\n",
    "data_analysis.plot_histogram_for_make()"
   ]
  },
  {
   "cell_type": "code",
   "execution_count": null,
   "id": "6e772ec7",
   "metadata": {},
   "outputs": [],
   "source": [
    "# Plot pair plot\n",
    "data_analysis.plot_pair_plot()"
   ]
  },
  {
   "cell_type": "code",
   "execution_count": null,
   "id": "5cb43a8f",
   "metadata": {},
   "outputs": [],
   "source": [
    "# Plot heatmap\n",
    "data_analysis.plot_heatmap()"
   ]
  },
  {
   "cell_type": "code",
   "execution_count": null,
   "id": "aa8749aa",
   "metadata": {},
   "outputs": [],
   "source": [
    "# Plot scatter plot\n",
    "data_analysis.plot_scatter_plot()"
   ]
  },
  {
   "cell_type": "code",
   "execution_count": null,
   "id": "7c139cc6",
   "metadata": {},
   "outputs": [],
   "source": [
    "# Plot vehicle type distribution\n",
    "data_analysis.plot_vehicle_type_distribution()"
   ]
  },
  {
   "cell_type": "code",
   "execution_count": null,
   "id": "0b093cd8",
   "metadata": {},
   "outputs": [],
   "source": [
    "# Plot model year distribution\n",
    "data_analysis.plot_model_year_distribution()"
   ]
  },
  {
   "cell_type": "code",
   "execution_count": null,
   "id": "8eabbe39",
   "metadata": {},
   "outputs": [],
   "source": [
    "# Plot electric range distribution\n",
    "data_analysis.plot_electric_range_distribution()"
   ]
  },
  {
   "cell_type": "code",
   "execution_count": null,
   "id": "5601541b",
   "metadata": {},
   "outputs": [],
   "source": [
    "# Plot CAFV eligibility count\n",
    "data_analysis.plot_cafv_eligibility_count()"
   ]
  },
  {
   "cell_type": "code",
   "execution_count": null,
   "id": "2058b8e6",
   "metadata": {},
   "outputs": [],
   "source": [
    "# Plot model year vs electric range\n",
    "data_analysis.plot_model_year_vs_electric_range()"
   ]
  },
  {
   "cell_type": "code",
   "execution_count": null,
   "id": "a17edfa3",
   "metadata": {},
   "outputs": [],
   "source": [
    "# Plot top counties\n",
    "data_analysis.plot_top_counties()"
   ]
  },
  {
   "cell_type": "code",
   "execution_count": null,
   "id": "d0ef66fc",
   "metadata": {},
   "outputs": [],
   "source": [
    "# Plot top cities\n",
    "data_analysis.plot_top_cities()"
   ]
  },
  {
   "cell_type": "code",
   "execution_count": null,
   "id": "73b6ac1e",
   "metadata": {},
   "outputs": [],
   "source": [
    "# Plot top utility companies\n",
    "data_analysis.plot_top_utility_companies()"
   ]
  },
  {
   "cell_type": "code",
   "execution_count": null,
   "id": "d7b2cdd5",
   "metadata": {},
   "outputs": [],
   "source": [
    "# Plot BEV vs PHEV comparison\n",
    "data_analysis.plot_bev_phev_comparison()"
   ]
  },
  {
   "cell_type": "code",
   "execution_count": null,
   "id": "fd8d5571",
   "metadata": {},
   "outputs": [],
   "source": [
    "# Plot multivariate analysis\n",
    "data_analysis.plot_multivariate_analysis()"
   ]
  },
  {
   "cell_type": "code",
   "execution_count": null,
   "id": "5ec19690",
   "metadata": {},
   "outputs": [],
   "source": [
    "# Filter by model year\n",
    "filtered_by_model_year = data_analysis.filter_by_model_year(model_year=2020)\n",
    "filtered_by_model_year"
   ]
  },
  {
   "cell_type": "code",
   "execution_count": null,
   "id": "49880c42",
   "metadata": {},
   "outputs": [],
   "source": [
    "# Get data matrix\n",
    "data_matrix = data_analysis.get_data_matrix()\n",
    "data_matrix"
   ]
  },
  {
   "cell_type": "code",
   "execution_count": null,
   "id": "b31f71f4",
   "metadata": {},
   "outputs": [],
   "source": [
    "# Get selected data matrix\n",
    "selected_data_matrix = data_analysis.get_selected_data_matrix(selected_columns=['Make', 'Model Year', 'Electric Range'])\n",
    "selected_data_matrix"
   ]
  },
  {
   "cell_type": "code",
   "execution_count": null,
   "id": "643bcde9",
   "metadata": {},
   "outputs": [],
   "source": [
    "# Get numpy array\n",
    "numpy_array = data_analysis.get_numpy_array()\n",
    "numpy_array"
   ]
  },
  {
   "cell_type": "code",
   "execution_count": null,
   "id": "c2adcb18",
   "metadata": {},
   "outputs": [],
   "source": [
    "# Create brand model column\n",
    "brand_model_column = data_analysis.create_brand_model_column()\n",
    "brand_model_column"
   ]
  },
  {
   "cell_type": "code",
   "execution_count": null,
   "id": "2bfce086",
   "metadata": {},
   "outputs": [],
   "source": [
    "# Sort by column\n",
    "sorted_data = data_analysis.sort_by_column(column='Model Year')\n",
    "sorted_data"
   ]
  },
  {
   "cell_type": "code",
   "execution_count": null,
   "id": "ad9e5503",
   "metadata": {},
   "outputs": [],
   "source": [
    "# Perform linear regression\n",
    "data_analysis.perform_linear_regression()"
   ]
  },
  {
   "cell_type": "code",
   "execution_count": null,
   "id": "f3aef135",
   "metadata": {},
   "outputs": [],
   "source": [
    "# Call the create_keplergl_map method using the instance\n",
    "data_analysis.create_keplergl_map()"
   ]
  },
  {
   "cell_type": "code",
   "execution_count": null,
   "id": "2acb3ab6",
   "metadata": {},
   "outputs": [],
   "source": [
    "data_analysis.train_random_forest_classifier()\n"
   ]
  },
  {
   "cell_type": "code",
   "execution_count": null,
   "id": "6aa6b3d8",
   "metadata": {},
   "outputs": [],
   "source": []
  },
  {
   "cell_type": "markdown",
   "id": "66bc64f9",
   "metadata": {},
   "source": [
    "## 🚀 Model Comparison: Random Forest vs XGBoost"
   ]
  },
  {
   "cell_type": "code",
   "execution_count": null,
   "id": "41e02ff1",
   "metadata": {},
   "outputs": [],
   "source": [
    "# Train an XGBoost Classifier\n",
    "from xgboost import XGBClassifier\n",
    "from sklearn.metrics import accuracy_score, classification_report\n",
    "\n",
    "# Preprocess again\n",
    "X_encoded, y = self.preprocess_data()\n",
    "X_train, X_test, y_train, y_test = train_test_split(X_encoded, y, test_size=0.2, random_state=42)\n",
    "\n",
    "xgb_model = XGBClassifier(use_label_encoder=False, eval_metric='mlogloss')\n",
    "xgb_model.fit(X_train, y_train)\n",
    "y_pred_xgb = xgb_model.predict(X_test)\n",
    "\n",
    "print('XGBoost Accuracy:', accuracy_score(y_test, y_pred_xgb))\n",
    "print(classification_report(y_test, y_pred_xgb))"
   ]
  },
  {
   "cell_type": "code",
   "execution_count": null,
   "id": "c378fc84",
   "metadata": {},
   "outputs": [],
   "source": [
    "# Optional: XGBoost Feature Importance Plot\n",
    "import matplotlib.pyplot as plt\n",
    "import pandas as pd\n",
    "importances = xgb_model.feature_importances_\n",
    "feat_names = preprocessor.get_feature_names_out()\n",
    "feat_imp_df = pd.DataFrame({'Feature': feat_names, 'Importance': importances})\n",
    "feat_imp_df.sort_values(by='Importance', ascending=False).head(10).plot(kind='bar', x='Feature', y='Importance', figsize=(10, 6))\n",
    "plt.title('XGBoost - Top 10 Feature Importances')\n",
    "plt.ylabel('Importance')\n",
    "plt.tight_layout()\n",
    "plt.show()"
   ]
  },
  {
   "cell_type": "markdown",
   "id": "9503b9ea",
   "metadata": {},
   "source": [
    "## 📉 Linear Regression on MSRP using Model Year and Electric Range"
   ]
  },
  {
   "cell_type": "code",
   "execution_count": null,
   "id": "e278c036",
   "metadata": {},
   "outputs": [],
   "source": [
    "\n",
    "from sklearn.linear_model import LinearRegression\n",
    "from sklearn.model_selection import train_test_split\n",
    "from sklearn.metrics import r2_score\n",
    "import numpy as np\n",
    "\n",
    "# Predicting Base MSRP using only numerical features (Model Year, Electric Range)\n",
    "try:\n",
    "    df_reg = data_analysis.df[['Model Year', 'Electric Range', 'Base MSRP']].dropna()\n",
    "\n",
    "    # Remove outliers in MSRP (e.g., top 1%)\n",
    "    q_high = df_reg['Base MSRP'].quantile(0.99)\n",
    "    df_reg = df_reg[df_reg['Base MSRP'] <= q_high]\n",
    "\n",
    "    X = df_reg[['Model Year', 'Electric Range']]\n",
    "    y = df_reg['Base MSRP']\n",
    "\n",
    "    X_train, X_test, y_train, y_test = train_test_split(X, y, test_size=0.2, random_state=42)\n",
    "\n",
    "    lr = LinearRegression()\n",
    "    lr.fit(X_train, y_train)\n",
    "    y_pred = lr.predict(X_test)\n",
    "\n",
    "    print(\"✅ Fixed Linear Regression Completed\")\n",
    "    print(\"R-squared score:\", r2_score(y_test, y_pred))\n",
    "\n",
    "except Exception as e:\n",
    "    print(\"Error during linear regression:\", e)\n"
   ]
  },
  {
   "cell_type": "markdown",
   "id": "810a38c2",
   "metadata": {},
   "source": [
    "## 🌲 Random Forest Classifier (Improved) with Sampled Data"
   ]
  },
  {
   "cell_type": "code",
   "execution_count": null,
   "id": "67c71b5f",
   "metadata": {},
   "outputs": [],
   "source": [
    "\n",
    "from sklearn.ensemble import RandomForestClassifier\n",
    "from sklearn.metrics import accuracy_score, classification_report\n",
    "from sklearn.model_selection import train_test_split\n",
    "\n",
    "# Use a sampled and properly preprocessed dataset\n",
    "try:\n",
    "    df_class = data_analysis.df[['Model Year', 'Make', 'Model', 'Electric Range', 'Base MSRP', 'Electric Vehicle Type']].dropna()\n",
    "\n",
    "    # Sample to reduce memory and overfitting\n",
    "    df_sampled = df_class.sample(n=10000, random_state=42)\n",
    "\n",
    "    X = df_sampled.drop('Electric Vehicle Type', axis=1)\n",
    "    y = df_sampled['Electric Vehicle Type']\n",
    "\n",
    "    from sklearn.preprocessing import OneHotEncoder\n",
    "    from sklearn.compose import ColumnTransformer\n",
    "\n",
    "    cat_features = ['Make', 'Model']\n",
    "    preprocessor = ColumnTransformer(\n",
    "        transformers=[\n",
    "            ('cat', OneHotEncoder(handle_unknown='ignore'), cat_features)\n",
    "        ],\n",
    "        remainder='passthrough'\n",
    "    )\n",
    "\n",
    "    X_encoded = preprocessor.fit_transform(X)\n",
    "\n",
    "    X_train, X_test, y_train, y_test = train_test_split(X_encoded, y, test_size=0.2, random_state=42)\n",
    "    rf_model = RandomForestClassifier(n_estimators=100, random_state=42)\n",
    "    rf_model.fit(X_train, y_train)\n",
    "    y_pred = rf_model.predict(X_test)\n",
    "\n",
    "    print(\"✅ Random Forest Classification Completed\")\n",
    "    print(\"Accuracy:\", accuracy_score(y_test, y_pred))\n",
    "    print(classification_report(y_test, y_pred))\n",
    "except Exception as e:\n",
    "    print(\"Error during Random Forest training:\", e)\n"
   ]
  }
 ],
 "metadata": {},
 "nbformat": 4,
 "nbformat_minor": 5
}
